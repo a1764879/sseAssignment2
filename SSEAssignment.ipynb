{
 "cells": [
  {
   "cell_type": "markdown",
   "metadata": {},
   "source": [
    "## Exercise 4 – identifying vulnerability-contributing commits"
   ]
  },
  {
   "cell_type": "markdown",
   "metadata": {},
   "source": [
    "### Initialise modules"
   ]
  },
  {
   "cell_type": "code",
   "execution_count": 2,
   "metadata": {},
   "outputs": [
    {
     "name": "stdout",
     "output_type": "stream",
     "text": [
      "Requirement already satisfied: GitPython in c:\\users\\alana\\anaconda3\\lib\\site-packages (3.1.7)\n",
      "Requirement already satisfied: gitdb<5,>=4.0.1 in c:\\users\\alana\\anaconda3\\lib\\site-packages (from GitPython) (4.0.5)\n",
      "Requirement already satisfied: smmap<4,>=3.0.1 in c:\\users\\alana\\anaconda3\\lib\\site-packages (from gitdb<5,>=4.0.1->GitPython) (3.0.4)\n",
      "Requirement already satisfied: seaborn in c:\\users\\alana\\anaconda3\\lib\\site-packages (0.10.1)\n",
      "Requirement already satisfied: numpy>=1.13.3 in c:\\users\\alana\\anaconda3\\lib\\site-packages (from seaborn) (1.18.5)\n",
      "Requirement already satisfied: pandas>=0.22.0 in c:\\users\\alana\\anaconda3\\lib\\site-packages (from seaborn) (1.0.5)\n",
      "Requirement already satisfied: scipy>=1.0.1 in c:\\users\\alana\\anaconda3\\lib\\site-packages (from seaborn) (1.5.0)\n",
      "Requirement already satisfied: matplotlib>=2.1.2 in c:\\users\\alana\\anaconda3\\lib\\site-packages (from seaborn) (3.2.2)\n",
      "Requirement already satisfied: pytz>=2017.2 in c:\\users\\alana\\anaconda3\\lib\\site-packages (from pandas>=0.22.0->seaborn) (2020.1)\n",
      "Requirement already satisfied: python-dateutil>=2.6.1 in c:\\users\\alana\\anaconda3\\lib\\site-packages (from pandas>=0.22.0->seaborn) (2.8.1)\n",
      "Requirement already satisfied: cycler>=0.10 in c:\\users\\alana\\anaconda3\\lib\\site-packages (from matplotlib>=2.1.2->seaborn) (0.10.0)\n",
      "Requirement already satisfied: pyparsing!=2.0.4,!=2.1.2,!=2.1.6,>=2.0.1 in c:\\users\\alana\\anaconda3\\lib\\site-packages (from matplotlib>=2.1.2->seaborn) (2.4.7)\n",
      "Requirement already satisfied: kiwisolver>=1.0.1 in c:\\users\\alana\\anaconda3\\lib\\site-packages (from matplotlib>=2.1.2->seaborn) (1.2.0)\n",
      "Requirement already satisfied: six>=1.5 in c:\\users\\alana\\anaconda3\\lib\\site-packages (from python-dateutil>=2.6.1->pandas>=0.22.0->seaborn) (1.15.0)\n",
      "Requirement already satisfied: pydriller in c:\\users\\alana\\anaconda3\\lib\\site-packages (1.15.2)\n",
      "Requirement already satisfied: gitpython in c:\\users\\alana\\anaconda3\\lib\\site-packages (from pydriller) (3.1.7)\n",
      "Requirement already satisfied: pytz in c:\\users\\alana\\anaconda3\\lib\\site-packages (from pydriller) (2020.1)\n",
      "Requirement already satisfied: lizard in c:\\users\\alana\\anaconda3\\lib\\site-packages (from pydriller) (1.17.4)\n",
      "Requirement already satisfied: gitdb<5,>=4.0.1 in c:\\users\\alana\\anaconda3\\lib\\site-packages (from gitpython->pydriller) (4.0.5)\n",
      "Requirement already satisfied: smmap<4,>=3.0.1 in c:\\users\\alana\\anaconda3\\lib\\site-packages (from gitdb<5,>=4.0.1->gitpython->pydriller) (3.0.4)\n"
     ]
    }
   ],
   "source": [
    "! pip3 install GitPython\n",
    "! pip3 install seaborn\n",
    "! pip3 install pydriller\n",
    "\n",
    "import numpy as np\n",
    "import pandas as pd\n",
    "import os\n",
    "import time\n",
    "\n",
    "import git\n",
    "from git import RemoteProgress\n",
    "from git import Repo\n",
    "\n",
    "import matplotlib.pyplot as plt\n",
    "import seaborn as sns\n",
    "\n",
    "BLUE   = '\\033[94m'\n",
    "GREEN  = '\\033[92m'\n",
    "ORANGE = '\\033[93m'\n",
    "RED    = '\\033[91m'\n",
    "ENDC   = '\\033[0m'"
   ]
  },
  {
   "cell_type": "markdown",
   "metadata": {},
   "source": [
    "### Clone github repositories"
   ]
  },
  {
   "cell_type": "code",
   "execution_count": 3,
   "metadata": {},
   "outputs": [],
   "source": [
    "url_a = \"https://github.com/jenkinsci/groovy-sandbox\"\n",
    "dir_a = \"groovy-sandbox\"\n",
    "\n",
    "# for cloning.\n",
    "if not os.path.isdir(dir_a):\n",
    "    Repo.clone_from(url_a, dir_a)"
   ]
  },
  {
   "cell_type": "markdown",
   "metadata": {},
   "source": [
    "### Set repository ('local_link') and fixing commit ('fixing_commit')"
   ]
  },
  {
   "cell_type": "code",
   "execution_count": 4,
   "metadata": {},
   "outputs": [],
   "source": [
    "local_link = \"groovy-sandbox\"\n",
    "fixing_commit = \"0cd7ec12b7c56cfa3167d99c5f43147ce05449d3\"\n",
    "manual_vcc = \"00fcf59a73dee30b29c496630b6b8ec09c5b13e4\"\n",
    "\n",
    "\n",
    "repo = Repo(local_link)"
   ]
  },
  {
   "cell_type": "markdown",
   "metadata": {},
   "source": [
    "### Checking if fixing commit exists"
   ]
  },
  {
   "cell_type": "code",
   "execution_count": 133,
   "metadata": {},
   "outputs": [
    {
     "name": "stdout",
     "output_type": "stream",
     "text": [
      "Fixing commit exists\n"
     ]
    }
   ],
   "source": [
    "all_commits = repo.iter_commits()\n",
    "for commit in list(all_commits):\n",
    "    if commit.hexsha == fixing_commit:\n",
    "        affected_files = commit.stats.files\n",
    "        print(\"Fixing commit exists\")"
   ]
  },
  {
   "cell_type": "markdown",
   "metadata": {},
   "source": [
    "### Calculate the VCC"
   ]
  },
  {
   "cell_type": "code",
   "execution_count": 172,
   "metadata": {},
   "outputs": [
    {
     "name": "stdout",
     "output_type": "stream",
     "text": [
      "vulnerable code portions commits:\n",
      "\n",
      "\u001b[92m 15f420cb799350455182159f3c0f63145b23c19b \u001b[0m  :  \u001b[94m 1 \u001b[0m\n",
      "\u001b[92m 00fcf59a73dee30b29c496630b6b8ec09c5b13e4 \u001b[0m  :  \u001b[94m 15 \u001b[0m\n",
      "\n",
      "worst commit (VCC):  \u001b[91m 00fcf59a73dee30b29c496630b6b8ec09c5b13e4 \u001b[0m\n"
     ]
    }
   ],
   "source": [
    "import io\n",
    "import sys\n",
    "\n",
    "full_lines = []\n",
    "add_lines  = []\n",
    "blame_lines= []\n",
    "\n",
    "diff_data = repo.git.diff(fixing_commit + \"^\", fixing_commit).splitlines()\n",
    "\n",
    "commit = repo.commit(fixing_commit)\n",
    "\n",
    "for line in diff_data:\n",
    "    if line.startswith(\"++\") or line.startswith(\"--\"):\n",
    "        continue\n",
    "    if line.startswith(\"+\"):\n",
    "        add_lines.append(line)\n",
    "\n",
    "for affected_file in affected_files:\n",
    "    searchScope = False\n",
    "    \n",
    "    # retrieve the full contents of the modified file\n",
    "    targetfile = commit.tree / affected_file\n",
    "    with io.BytesIO(targetfile.data_stream.read()) as f:\n",
    "        full_lines = f.read().decode('utf-8').splitlines()\n",
    "    for full_line in full_lines:\n",
    "        if len(add_lines) == 0:\n",
    "            break\n",
    "            \n",
    "        # if the line has no leading whitespace, it is of global scope and is treated individually\n",
    "        if len(full_line.lstrip()) == len(full_line):\n",
    "            searchScope = False\n",
    "       \n",
    "        elif full_line.strip().endswith(\"}\"):\n",
    "            searchScope = False            \n",
    "            \n",
    "        # to prevent duplicates, always take the first item, then remove it\n",
    "        if add_lines[0][1:] == full_line:\n",
    "            searchScope = True\n",
    "            add_lines.pop(0)  \n",
    "        else:\n",
    "            if searchScope == True:\n",
    "                blame_lines.append(full_line)\n",
    "blame_commits = []\n",
    "blame_commits_unique = []\n",
    "\n",
    "# loop through the array of files affected by the fixing commit\n",
    "for affected_file in affected_files:\n",
    "    for commit, lines in repo.blame(fixing_commit, affected_file):\n",
    "        for line in lines:\n",
    "            if len(blame_lines) == 0:\n",
    "                break\n",
    "            if blame_lines[0] == line:\n",
    "                blame_lines.pop(0)  \n",
    "                blame_commits.append(commit)\n",
    "                if commit not in blame_commits_unique:\n",
    "                    blame_commits_unique.append(commit)\n",
    "print(\"vulnerable code portions commits:\\n\")\n",
    "worst_commit = None\n",
    "worst_number = 0\n",
    "for unique_commit in blame_commits_unique:\n",
    "    if blame_commits.count(unique_commit) > worst_number:\n",
    "        worst_commit = unique_commit\n",
    "        worst_number = blame_commits.count(unique_commit)\n",
    "    print(GREEN, unique_commit, ENDC, \" : \", BLUE, blame_commits.count(unique_commit), ENDC)\n",
    "\n",
    "print(\"\\nworst commit (VCC): \", RED, worst_commit, ENDC)"
   ]
  },
  {
   "cell_type": "markdown",
   "metadata": {},
   "source": [
    "### Title and committer of VCC commit"
   ]
  },
  {
   "cell_type": "code",
   "execution_count": 13,
   "metadata": {},
   "outputs": [
    {
     "name": "stdout",
     "output_type": "stream",
     "text": [
      "commit 00fcf59a73dee30b29c496630b6b8ec09c5b13e4\n",
      "Author: Jesse Glick <jglick@cloudbees.com>\n",
      "Date:   Fri Jul 28 13:55:51 2017 -0400\n",
      "\n",
      "    Closed sandbox bypasses via:\n",
      "    [SECURITY-566] interface coercion\n",
      "    [SECURITY-567] method referencing\n",
      "    [SECURITY-580] list to constructor coercion\n",
      "    [SECURITY-582] super constructor\n"
     ]
    }
   ],
   "source": [
    "show_data = repo.git.show(\"-s\", manual_vcc).splitlines()\n",
    "for line in show_data:\n",
    "    print(line)"
   ]
  },
  {
   "cell_type": "markdown",
   "metadata": {},
   "source": [
    "### Total files and Directory affected "
   ]
  },
  {
   "cell_type": "code",
   "execution_count": 49,
   "metadata": {},
   "outputs": [
    {
     "name": "stdout",
     "output_type": "stream",
     "text": [
      "Total Files modified: 7\n",
      "Total unique directories modified: 3\n"
     ]
    }
   ],
   "source": [
    "prev_commit = \"0f2ed68c3c76c7fc22887965d4d26612753e43b8\"\n",
    "diff_data = repo.git.diff('--name-status',manual_vcc, prev_commit).splitlines()\n",
    "print(\"Total Files modified: \"+ str(len(diff_data)))\n",
    "diff_dir = repo.git.diff('--dirstat=files,0',manual_vcc, prev_commit).splitlines()\n",
    "print(\"Total unique directories modified: \"+ str(len(diff_dir)))"
   ]
  },
  {
   "cell_type": "markdown",
   "metadata": {},
   "source": [
    "### lines added and deleted (including & excluding comments):"
   ]
  },
  {
   "cell_type": "code",
   "execution_count": 170,
   "metadata": {},
   "outputs": [
    {
     "name": "stdout",
     "output_type": "stream",
     "text": [
      "lines added (INCLUDING comments and blanks):  334\n",
      "lines added (EXCLUDING comments and blanks):  260\n",
      "lines removed (INCLUDING comments and blanks):  15\n",
      "lines removed (EXCLUDING comments and blanks):  15\n"
     ]
    }
   ],
   "source": [
    "diff_data = repo.git.diff(worst_commit.hexsha + \"^\", worst_commit).splitlines()\n",
    "\n",
    "total_lines_added_including_blank_comments   = 0\n",
    "total_lines_added_excluding_blank_comments   = 0\n",
    "total_lines_removed_including_blank_comments = 0\n",
    "total_lines_removed_excluding_blank_comments = 0\n",
    "\n",
    "isComment = False\n",
    "\n",
    "for line in diff_data:\n",
    "    isAdded   = False\n",
    "    isRemoved = False\n",
    "    if line.startswith(\"+\"):\n",
    "        isAdded = True \n",
    "    if line.startswith(\"-\"):\n",
    "        isRemoved = True\n",
    "\n",
    "\n",
    "    # ignore 'file path' lines\n",
    "    if line.startswith(\"++\") or line.startswith(\"--\"):\n",
    "        continue\n",
    "    \n",
    "    # detect when comment code starts\n",
    "    if line.strip().startswith(\"/*\") or line.startswith('\"\"\"'):\n",
    "        isComment = True\n",
    "\n",
    "    if len(line.strip()) == 0:\n",
    "        total_lines_added_including_blank_comments += 1\n",
    "    elif isAdded and (isComment or line.startswith(\"//\") or line.startswith(\"#\")):\n",
    "        total_lines_added_including_blank_comments += 1\n",
    "    elif isAdded:\n",
    "        total_lines_added_including_blank_comments += 1\n",
    "        total_lines_added_excluding_blank_comments += 1\n",
    "    elif isRemoved:\n",
    "        total_lines_removed_including_blank_comments += 1\n",
    "        total_lines_removed_excluding_blank_comments += 1      \n",
    "       \n",
    "        # detect when comment code ends\n",
    "    if line.strip().endswith(\"*/\") or line.endswith('\"\"\"'):\n",
    "        isComment = False\n",
    "        \n",
    "print(\"lines added (INCLUDING comments and blanks): \", total_lines_added_including_blank_comments)\n",
    "print(\"lines added (EXCLUDING comments and blanks): \", total_lines_added_excluding_blank_comments)\n",
    "print(\"lines removed (INCLUDING comments and blanks): \", total_lines_removed_including_blank_comments)\n",
    "print(\"lines removed (EXCLUDING comments and blanks): \", total_lines_removed_excluding_blank_comments)"
   ]
  },
  {
   "cell_type": "markdown",
   "metadata": {},
   "source": [
    "####  How many days between current VCC - previous commit"
   ]
  },
  {
   "cell_type": "code",
   "execution_count": 105,
   "metadata": {},
   "outputs": [],
   "source": [
    "affected_vcc_files=[]\n",
    "all_commits = repo.iter_commits()\n",
    "for commit in list(all_commits):\n",
    "    if commit.hexsha == manual_vcc:\n",
    "        affected_vcc_files = commit.stats.files\n",
    "# list(affected_vcc_files)"
   ]
  },
  {
   "cell_type": "code",
   "execution_count": 107,
   "metadata": {},
   "outputs": [
    {
     "name": "stdout",
     "output_type": "stream",
     "text": [
      "pom.xml : 3 days\n",
      "src/main/java/org/kohsuke/groovy/sandbox/GroovyInterceptor.java : 314 days\n",
      "src/main/java/org/kohsuke/groovy/sandbox/SandboxTransformer.java : 15 days\n",
      "src/main/java/org/kohsuke/groovy/sandbox/ScopeTrackingClassCodeExpressionTransformer.java : 17 days\n",
      "src/main/java/org/kohsuke/groovy/sandbox/impl/Checker.java : 3 days\n",
      "src/main/java/org/kohsuke/groovy/sandbox/impl/SandboxedMethodClosure.java : 1352 days\n",
      "src/test/groovy/org/kohsuke/groovy/sandbox/TheTest.groovy : 3 days\n"
     ]
    }
   ],
   "source": [
    "prev_commit = \"0f2ed68c3c76c7fc22887965d4d26612753e43b8\"\n",
    "# repo.git.log('--pretty=tformat:%C(auto)%h (%ar, %ad, %an)', manual_vcc, prev_commit).splitlines()\n",
    "all_dates = repo.git.log('--pretty=tformat:%cs', manual_vcc,prev_commit, list(affected_vcc_files)[0]).splitlines()\n",
    "from datetime import datetime\n",
    "\n",
    "for commit in list(affected_vcc_files):\n",
    "    all_dates= repo.git.log('--pretty=tformat:%cs', manual_vcc,commit).splitlines()\n",
    "    d1 = datetime.strptime(all_dates[0], \"%Y-%m-%d\")\n",
    "    d2 = datetime.strptime(all_dates[1], \"%Y-%m-%d\")\n",
    "    diff = abs((d2 - d1).days)\n",
    "    print(commit, \":\", diff, \"days\")\n"
   ]
  },
  {
   "cell_type": "markdown",
   "metadata": {},
   "source": [
    "#### How many times has the files in VCC been modified since creation?"
   ]
  },
  {
   "cell_type": "code",
   "execution_count": 117,
   "metadata": {},
   "outputs": [
    {
     "name": "stdout",
     "output_type": "stream",
     "text": [
      "pom.xml : 41\n",
      "src/main/java/org/kohsuke/groovy/sandbox/GroovyInterceptor.java : 9\n",
      "src/main/java/org/kohsuke/groovy/sandbox/SandboxTransformer.java : 43\n",
      "src/main/java/org/kohsuke/groovy/sandbox/ScopeTrackingClassCodeExpressionTransformer.java : 3\n",
      "src/main/java/org/kohsuke/groovy/sandbox/impl/Checker.java : 18\n",
      "src/main/java/org/kohsuke/groovy/sandbox/impl/SandboxedMethodClosure.java : 3\n",
      "src/test/groovy/org/kohsuke/groovy/sandbox/TheTest.groovy : 48\n"
     ]
    }
   ],
   "source": [
    "for commit in list(affected_vcc_files):\n",
    "    ind_commits = repo.git.log('--follow','--pretty=tformat:%h', manual_vcc,prev_commit, commit).splitlines()\n",
    "    print(commit, \":\", len(list(ind_commits)))"
   ]
  },
  {
   "cell_type": "markdown",
   "metadata": {},
   "source": [
    "#### Which developers have modifed the file(since creation)?"
   ]
  },
  {
   "cell_type": "code",
   "execution_count": 126,
   "metadata": {},
   "outputs": [
    {
     "name": "stdout",
     "output_type": "stream",
     "text": [
      "pom.xml : ['Jesse Glick', 'Kohsuke Kawaguchi']\n",
      "src/main/java/org/kohsuke/groovy/sandbox/GroovyInterceptor.java : ['Jesse Glick', 'Kohsuke Kawaguchi']\n",
      "src/main/java/org/kohsuke/groovy/sandbox/SandboxTransformer.java : ['Jesse Glick', 'Andrew Bayer', 'Kohsuke Kawaguchi', 'Oliver Gondža', 'Julien Viet']\n",
      "src/main/java/org/kohsuke/groovy/sandbox/ScopeTrackingClassCodeExpressionTransformer.java : ['Jesse Glick']\n",
      "src/main/java/org/kohsuke/groovy/sandbox/impl/Checker.java : ['Jesse Glick', 'Kohsuke Kawaguchi']\n",
      "src/main/java/org/kohsuke/groovy/sandbox/impl/SandboxedMethodClosure.java : ['Jesse Glick', 'Kohsuke Kawaguchi']\n",
      "src/test/groovy/org/kohsuke/groovy/sandbox/TheTest.groovy : ['Jesse Glick', 'Andrew Bayer', 'Kohsuke Kawaguchi', 'Oliver Gondža', 'Nicolas De Loof', 'Julien Viet']\n"
     ]
    }
   ],
   "source": [
    "for commit in list(affected_vcc_files):\n",
    "    ind_commits = repo.git.log('--follow','--pretty=tformat:%cn', manual_vcc,prev_commit, commit).splitlines()\n",
    "    contributors = []\n",
    "    for committer in ind_commits: \n",
    "        if committer not in contributors:\n",
    "            contributors.append(committer)\n",
    "    print(commit, \":\", (contributors))"
   ]
  },
  {
   "cell_type": "markdown",
   "metadata": {},
   "source": [
    "#### How many commits have each of the developer submitted?"
   ]
  },
  {
   "cell_type": "code",
   "execution_count": 131,
   "metadata": {},
   "outputs": [
    {
     "data": {
      "text/html": [
       "<div>\n",
       "<style scoped>\n",
       "    .dataframe tbody tr th:only-of-type {\n",
       "        vertical-align: middle;\n",
       "    }\n",
       "\n",
       "    .dataframe tbody tr th {\n",
       "        vertical-align: top;\n",
       "    }\n",
       "\n",
       "    .dataframe thead th {\n",
       "        text-align: right;\n",
       "    }\n",
       "</style>\n",
       "<table border=\"1\" class=\"dataframe\">\n",
       "  <thead>\n",
       "    <tr style=\"text-align: right;\">\n",
       "      <th></th>\n",
       "      <th>Commit</th>\n",
       "      <th>Author</th>\n",
       "    </tr>\n",
       "  </thead>\n",
       "  <tbody>\n",
       "    <tr>\n",
       "      <th>0</th>\n",
       "      <td>116</td>\n",
       "      <td>Kohsuke Kawaguchi &lt;kk@kohsuke.org&gt;</td>\n",
       "    </tr>\n",
       "    <tr>\n",
       "      <th>1</th>\n",
       "      <td>40</td>\n",
       "      <td>Jesse Glick &lt;jglick@cloudbees.com&gt;</td>\n",
       "    </tr>\n",
       "    <tr>\n",
       "      <th>2</th>\n",
       "      <td>29</td>\n",
       "      <td>Andrew Bayer &lt;andrew.bayer@gmail.com&gt;</td>\n",
       "    </tr>\n",
       "    <tr>\n",
       "      <th>3</th>\n",
       "      <td>2</td>\n",
       "      <td>Julien Viet &lt;julien@julienviet.com&gt;</td>\n",
       "    </tr>\n",
       "    <tr>\n",
       "      <th>4</th>\n",
       "      <td>1</td>\n",
       "      <td>Nicolas De Loof &lt;nicolas.deloof@gmail.com&gt;</td>\n",
       "    </tr>\n",
       "    <tr>\n",
       "      <th>5</th>\n",
       "      <td>1</td>\n",
       "      <td>Oliver Gondža &lt;ogondza@gmail.com&gt;</td>\n",
       "    </tr>\n",
       "  </tbody>\n",
       "</table>\n",
       "</div>"
      ],
      "text/plain": [
       "   Commit                                      Author\n",
       "0     116          Kohsuke Kawaguchi <kk@kohsuke.org>\n",
       "1      40          Jesse Glick <jglick@cloudbees.com>\n",
       "2      29       Andrew Bayer <andrew.bayer@gmail.com>\n",
       "3       2         Julien Viet <julien@julienviet.com>\n",
       "4       1  Nicolas De Loof <nicolas.deloof@gmail.com>\n",
       "5       1           Oliver Gondža <ogondza@gmail.com>"
      ]
     },
     "execution_count": 131,
     "metadata": {},
     "output_type": "execute_result"
    }
   ],
   "source": [
    "commit_authors = repo.git.shortlog(\"-sne\", \"--all\").splitlines()\n",
    "\n",
    "author_commits = []\n",
    "\n",
    "for commit_author in commit_authors:\n",
    "    commit, author = commit_author.split(\"\\t\")\n",
    "    author_clean = author.split(\"<\")[0].strip()\n",
    "    if author_clean in contributors:\n",
    "        author_commits.append([int(commit), author])\n",
    "    \n",
    "df = pd.DataFrame(author_commits, columns=['Commit', 'Author'])\n",
    "df.head(100)"
   ]
  }
 ],
 "metadata": {
  "kernelspec": {
   "display_name": "Python 3",
   "language": "python",
   "name": "python3"
  },
  "language_info": {
   "codemirror_mode": {
    "name": "ipython",
    "version": 3
   },
   "file_extension": ".py",
   "mimetype": "text/x-python",
   "name": "python",
   "nbconvert_exporter": "python",
   "pygments_lexer": "ipython3",
   "version": "3.8.3"
  }
 },
 "nbformat": 4,
 "nbformat_minor": 2
}
